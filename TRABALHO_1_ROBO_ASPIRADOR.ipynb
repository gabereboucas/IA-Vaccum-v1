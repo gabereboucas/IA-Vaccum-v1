{
  "nbformat": 4,
  "nbformat_minor": 0,
  "metadata": {
    "colab": {
      "provenance": [],
      "authorship_tag": "ABX9TyNGPwZR2MiFYKV5INNq99CB",
      "include_colab_link": true
    },
    "kernelspec": {
      "name": "python3",
      "display_name": "Python 3"
    },
    "language_info": {
      "name": "python"
    }
  },
  "cells": [
    {
      "cell_type": "markdown",
      "metadata": {
        "id": "view-in-github",
        "colab_type": "text"
      },
      "source": [
        "<a href=\"https://colab.research.google.com/github/nathdborges/IA-Vaccum-v1/blob/main/TRABALHO_1_ROBO_ASPIRADOR.ipynb\" target=\"_parent\"><img src=\"https://colab.research.google.com/assets/colab-badge.svg\" alt=\"Open In Colab\"/></a>"
      ]
    },
    {
      "cell_type": "markdown",
      "source": [
        "### **Intelligent Agents: Reflex-Based Agents for the Vacuum-cleaner World**\n",
        "\n"
      ],
      "metadata": {
        "id": "JctPqGwlqQlV"
      }
    },
    {
      "cell_type": "markdown",
      "source": [
        "Student Name: Nathalia David Borges 201811902022"
      ],
      "metadata": {
        "id": "SBzpTZrgqVYe"
      }
    },
    {
      "cell_type": "code",
      "source": [
        "#import numpy as np: bom para algebra linear, vetorizar coisas, multiplicações de vetores [a,b,c][d,e,f] biblioteca numpy multiplica de uma vez axd bxe\n",
        "\n",
        "import numpy as np\n",
        "\n",
        "actions = [\"north\", \"east\", \"west\", \"south\", \"suck\"]\n",
        "\n",
        "def simple_randomized_agent(bumpers, dirty): #recebe percepção dos sensores #função que define agente\n",
        "    return np.random.choice(actions) #toma ação aleatoria, função random uma opção dentro dos 5 vetores"
      ],
      "metadata": {
        "id": "PootCMGirvIg"
      },
      "execution_count": null,
      "outputs": []
    },
    {
      "cell_type": "code",
      "source": [
        "# define percepts (current location is NW corner and it is dirty) #teste\n",
        "bumpers = {\"north\" : True, \"east\" : False, \"south\" : False, \"west\" : True} #norte livre leste tem parede sul tem parede oeste livre \n",
        "dirty = True\n",
        "\n",
        "# call agent program function with percepts and it returns an action\n",
        "simple_randomized_agent(bumpers, dirty)\n",
        "#executa ação aleatoria"
      ],
      "metadata": {
        "colab": {
          "base_uri": "https://localhost:8080/",
          "height": 35
        },
        "id": "2KPXeXqgsAAp",
        "outputId": "baf924e3-0248-416e-e427-f65760ef7c8c"
      },
      "execution_count": null,
      "outputs": [
        {
          "output_type": "execute_result",
          "data": {
            "text/plain": [
              "'suck'"
            ],
            "application/vnd.google.colaboratory.intrinsic+json": {
              "type": "string"
            }
          },
          "metadata": {},
          "execution_count": 2
        }
      ]
    },
    {
      "cell_type": "markdown",
      "source": [
        "Simple environment example"
      ],
      "metadata": {
        "id": "oODjSoq8sV6M"
      }
    },
    {
      "cell_type": "code",
      "source": [
        "#ambiente mais simples possivel \n",
        "#bumpers: sensor de colisão \n",
        "\n",
        "def simple_environment(agent, max_steps, verbose = True):\n",
        "    num_cleaned = 0\n",
        "    \n",
        "    for i in range(max_steps):\n",
        "        dirty = True\n",
        "        bumpers = {\"north\" : False, \"south\" : False, \"west\" : False, \"east\" : False}\n",
        "\n",
        "        action = agent(bumpers, dirty)\n",
        "        if (verbose): print(\"step\", i , \"- action:\", action) \n",
        "        \n",
        "        if (action == \"suck\"): #se ação for aspirar mede o desempenho \n",
        "            num_cleaned = num_cleaned + 1\n",
        "        \n",
        "    return num_cleaned"
      ],
      "metadata": {
        "id": "HcjlwfFAsLjr"
      },
      "execution_count": null,
      "outputs": []
    },
    {
      "cell_type": "markdown",
      "source": [
        "CRIAR UMA SIMULAÇÃO COM UMA SIMPLES RANDOMIZAÇÃO QUE FAÇA 20 STEPS"
      ],
      "metadata": {
        "id": "RsQir-TzshKm"
      }
    },
    {
      "cell_type": "code",
      "source": [
        "simple_environment(simple_randomized_agent, max_steps = 20) #função do agente aleatorio, ações"
      ],
      "metadata": {
        "id": "LEYWxOg0sTsl"
      },
      "execution_count": null,
      "outputs": []
    },
    {
      "cell_type": "markdown",
      "source": [
        "# Task 1"
      ],
      "metadata": {
        "id": "Yy-ncuGHs1Rf"
      }
    },
    {
      "cell_type": "markdown",
      "source": [
        "Criar uma matriz 5x5 para um ambiente real"
      ],
      "metadata": {
        "id": "6UJ1YYahtabs"
      }
    },
    {
      "cell_type": "markdown",
      "source": [
        "Primeiro matriz de numeros reais depois transformar em matriz booleanos, <80%"
      ],
      "metadata": {
        "id": "KmtJ0h9EtqvO"
      }
    },
    {
      "cell_type": "code",
      "source": [
        "def convert_to_boolean(x, prob=0.2): #transforma a matriz em booleano \n",
        "  return True  if x < prob  else False # x<0.2"
      ],
      "metadata": {
        "id": "YMIWtwfSuJTy"
      },
      "execution_count": null,
      "outputs": []
    },
    {
      "cell_type": "code",
      "source": [
        "import numpy as np\n",
        "def create_environment(dim=5, prob=0.2): #dimensão da matriz e probabilidade para executar função que define o ambiente \n",
        "  matrix=np.random.random((dim,dim)) #cria matriz aleatoria \n",
        "  func_vectorized=np.vectorize(convert_to_boolean) #vetorizar a função que recebe numero e retorna um valor se verdadeiro ou falso \n",
        "  matrix= func_vectorized(matrix) #aplica a função na matriz, acada elemento vai chamar a função \n",
        "  return matrix"
      ],
      "metadata": {
        "id": "w71CjE4AuLX5"
      },
      "execution_count": null,
      "outputs": []
    },
    {
      "cell_type": "code",
      "source": [
        "environment = create_environment() #teste\n",
        "print(environment) #imprimir a matriz em boleanos "
      ],
      "metadata": {
        "colab": {
          "base_uri": "https://localhost:8080/"
        },
        "id": "ONKbir0zuNRa",
        "outputId": "1f02fd0b-8f41-415d-dd87-77288e981a53"
      },
      "execution_count": null,
      "outputs": [
        {
          "output_type": "stream",
          "name": "stdout",
          "text": [
            "[[False False False  True False]\n",
            " [False False False False False]\n",
            " [False False False False False]\n",
            " [ True False False False  True]\n",
            " [False False False  True False]]\n"
          ]
        }
      ]
    },
    {
      "cell_type": "markdown",
      "source": [
        "Definir uma função que vai retornar a função do agente, agent percepctrion, percebe o ambiente e a posiçãio que o agente esta"
      ],
      "metadata": {
        "id": "hhAA4LF_uWsB"
      }
    },
    {
      "cell_type": "code",
      "source": [
        "position = np.random.randint(0, 5, 2) #vetor de duas posiççoes definidos aleatoriamentes #vetor que define posição  np.array([0,0]) definir como aleatoria randint\n",
        "print(position[0]) #x\n",
        "print(position[1]) #y"
      ],
      "metadata": {
        "colab": {
          "base_uri": "https://localhost:8080/"
        },
        "id": "XKdKjldmubz7",
        "outputId": "0443152c-8e21-4770-f418-b7e7f0620993"
      },
      "execution_count": null,
      "outputs": [
        {
          "output_type": "stream",
          "name": "stdout",
          "text": [
            "4\n",
            "1\n"
          ]
        }
      ]
    },
    {
      "cell_type": "code",
      "source": [
        "position.shape"
      ],
      "metadata": {
        "colab": {
          "base_uri": "https://localhost:8080/"
        },
        "id": "tMDcmTUvuhdU",
        "outputId": "bafb6766-1bcd-4471-d966-ff7c760eec5b"
      },
      "execution_count": null,
      "outputs": [
        {
          "output_type": "execute_result",
          "data": {
            "text/plain": [
              "(2,)"
            ]
          },
          "metadata": {},
          "execution_count": 8
        }
      ]
    },
    {
      "cell_type": "code",
      "source": [
        "environment.shape[0]"
      ],
      "metadata": {
        "colab": {
          "base_uri": "https://localhost:8080/"
        },
        "id": "kiJPxC-hui-E",
        "outputId": "fa726f89-a169-47d1-883c-366908c1b2b3"
      },
      "execution_count": null,
      "outputs": [
        {
          "output_type": "execute_result",
          "data": {
            "text/plain": [
              "5"
            ]
          },
          "metadata": {},
          "execution_count": 9
        }
      ]
    },
    {
      "cell_type": "code",
      "source": [
        "def agent_perception(environment, position): #função que retorna percepção do agente e posição do agente \n",
        "  north, south, east, west = True, True, True, True #def variaveis e atribui verdadeiro como posições livres para mmovimentação\n",
        "  x, y = position[0], position[1] #posição do vet\n",
        "  dim= environment.shape[0] #dimensao da mat\n",
        "  dirty = environment[x][y] #indicar se ta sujo ou n \n",
        "  if x == 0: #com base onde ele esta vai indicar onde ele pode se movimentar ou nao \n",
        "    west =  False\n",
        "  if x == dim - 1:\n",
        "    east = False \n",
        "  if y == 0:\n",
        "    north = False \n",
        "  if y == dim - 1:\n",
        "    south = False \n",
        "  perceptions = { #dicionario de percepcoes \n",
        "      \"north\" : north,\n",
        "      \"south\" : south,\n",
        "      \"east\" : east,\n",
        "      \"west\" : west,\n",
        "  }\n",
        "  return perceptions, dirty "
      ],
      "metadata": {
        "id": "MOtj-t9iulA8"
      },
      "execution_count": null,
      "outputs": []
    },
    {
      "cell_type": "code",
      "source": [
        "agent_perception(environment, position)"
      ],
      "metadata": {
        "colab": {
          "base_uri": "https://localhost:8080/"
        },
        "id": "ZTCKhdPculzr",
        "outputId": "a4ca9443-b383-44a2-b31f-33c772946114"
      },
      "execution_count": null,
      "outputs": [
        {
          "output_type": "execute_result",
          "data": {
            "text/plain": [
              "({'north': True, 'south': True, 'east': False, 'west': True}, False)"
            ]
          },
          "metadata": {},
          "execution_count": 12
        }
      ]
    },
    {
      "cell_type": "code",
      "source": [
        "#dirty e bumpers vire perceptions percepção do agnte \n",
        "def basic_environment(agent, max_steps, verbose = True):\n",
        "\n",
        "    num_cleaned = 0\n",
        "    environment= create_environment()\n",
        "    dim = environment.shape[0]\n",
        "    position= np.random.randint(0, dim, 2)\n",
        "    \n",
        "    for i in range(max_steps):\n",
        "        perceptions, dirty = agent_perception(environment, position)\n",
        "\n",
        "        action = agent(perceptions, dirty)\n",
        "        if (verbose): print(\"step {} - action {} - position {} - dirty {}\".format (i, action, position, dirty)  \n",
        "        \n",
        "        if ((action == \"suck\") and (dirty))\n",
        "          environment[position[0]][position[1]] = False \n",
        "          num_cleaned += 1\n",
        "          cost += 1\n",
        "\n",
        "        if ((action == \"north\") and (perceptions ['north'])):\n",
        "          position[1] -= 1\n",
        "\n",
        "        if ((action == \"south\") and (perceptions ['south'])):\n",
        "          position[1] += 1\n",
        "        \n",
        "        if ((action == \"east\") and (perceptions ['east'])):\n",
        "          position[1] += 1\n",
        "        \n",
        "        if ((action == \"west\") and (perceptions ['west'])):\n",
        "          position[1] -= 1\n",
        "    return num_cleaned"
      ],
      "metadata": {
        "colab": {
          "base_uri": "https://localhost:8080/",
          "height": 130
        },
        "id": "6e_jqMbAuuVO",
        "outputId": "7df53b00-0e26-410a-96da-b49aa2e8158d"
      },
      "execution_count": null,
      "outputs": [
        {
          "output_type": "error",
          "ename": "SyntaxError",
          "evalue": "ignored",
          "traceback": [
            "\u001b[0;36m  File \u001b[0;32m\"<ipython-input-39-d5e31368490f>\"\u001b[0;36m, line \u001b[0;32m16\u001b[0m\n\u001b[0;31m    environment[position[0]][position[1]] == False\u001b[0m\n\u001b[0m    ^\u001b[0m\n\u001b[0;31mSyntaxError\u001b[0m\u001b[0;31m:\u001b[0m invalid syntax\n"
          ]
        }
      ]
    },
    {
      "cell_type": "code",
      "source": [
        "basic_environment(simple_randomized_agent, max_steps=20)"
      ],
      "metadata": {
        "colab": {
          "base_uri": "https://localhost:8080/",
          "height": 165
        },
        "id": "1GTKD6Rvu2s3",
        "outputId": "77069a96-5b92-4a71-ff20-ddf6e22a346d"
      },
      "execution_count": null,
      "outputs": [
        {
          "output_type": "error",
          "ename": "NameError",
          "evalue": "ignored",
          "traceback": [
            "\u001b[0;31m---------------------------------------------------------------------------\u001b[0m",
            "\u001b[0;31mNameError\u001b[0m                                 Traceback (most recent call last)",
            "\u001b[0;32m<ipython-input-36-3aef4a736ec1>\u001b[0m in \u001b[0;36m<module>\u001b[0;34m\u001b[0m\n\u001b[0;32m----> 1\u001b[0;31m \u001b[0mbasic_environment\u001b[0m\u001b[0;34m(\u001b[0m\u001b[0msimple_randomized_agent\u001b[0m\u001b[0;34m,\u001b[0m \u001b[0mmax_steps\u001b[0m\u001b[0;34m=\u001b[0m\u001b[0;36m20\u001b[0m\u001b[0;34m)\u001b[0m\u001b[0;34m\u001b[0m\u001b[0;34m\u001b[0m\u001b[0m\n\u001b[0m",
            "\u001b[0;31mNameError\u001b[0m: name 'basic_environment' is not defined"
          ]
        }
      ]
    },
    {
      "cell_type": "code",
      "source": [
        "#agente aleatorio\n",
        "import numpy as np\n",
        "\n",
        "actions = [\"north\", \"east\", \"west\", \"south\", \"suck\"]\n",
        "\n",
        "def basic_agent(perceptions, dirty): \n",
        "  if (dirty):\n",
        "    return \"suck\"\n",
        "    return np.random.choice(actions) #toma ação aleatoria, função random uma opção dentro dos 5 vetores"
      ],
      "metadata": {
        "id": "5BBiFsSru5aQ"
      },
      "execution_count": null,
      "outputs": []
    },
    {
      "cell_type": "code",
      "source": [
        "basic_environment(simple_randomized_agent, max_steps=20) #limite de 20 passos 20 ações "
      ],
      "metadata": {
        "colab": {
          "base_uri": "https://localhost:8080/",
          "height": 165
        },
        "id": "XLBa8hl8u7P_",
        "outputId": "43d09fda-ff1b-45a4-a4d4-4981185f103e"
      },
      "execution_count": null,
      "outputs": [
        {
          "output_type": "error",
          "ename": "NameError",
          "evalue": "ignored",
          "traceback": [
            "\u001b[0;31m---------------------------------------------------------------------------\u001b[0m",
            "\u001b[0;31mNameError\u001b[0m                                 Traceback (most recent call last)",
            "\u001b[0;32m<ipython-input-38-5e70dc8d2a17>\u001b[0m in \u001b[0;36m<module>\u001b[0;34m\u001b[0m\n\u001b[0;32m----> 1\u001b[0;31m \u001b[0mbasic_environment\u001b[0m\u001b[0;34m(\u001b[0m\u001b[0msimple_randomized_agent\u001b[0m\u001b[0;34m,\u001b[0m \u001b[0mmax_steps\u001b[0m\u001b[0;34m=\u001b[0m\u001b[0;36m20\u001b[0m\u001b[0;34m)\u001b[0m \u001b[0;31m#limite de 20 passos 20 ações\u001b[0m\u001b[0;34m\u001b[0m\u001b[0;34m\u001b[0m\u001b[0m\n\u001b[0m",
            "\u001b[0;31mNameError\u001b[0m: name 'basic_environment' is not defined"
          ]
        }
      ]
    },
    {
      "cell_type": "markdown",
      "source": [
        "# Task 2: Implement a simple reflex agent "
      ],
      "metadata": {
        "id": "86rQmKQov1eW"
      }
    },
    {
      "cell_type": "markdown",
      "source": [
        "# Task 3: Implement a model-based reflex agent "
      ],
      "metadata": {
        "id": "AqxNsr9uvwWV"
      }
    },
    {
      "cell_type": "markdown",
      "source": [
        "# Task 4: Simulation study "
      ],
      "metadata": {
        "id": "2oTJCJehwAEo"
      }
    },
    {
      "cell_type": "markdown",
      "source": [
        "# Task 5: Robustness of the agent implementations"
      ],
      "metadata": {
        "id": "pWUKlYpCwBUY"
      }
    }
  ]
}